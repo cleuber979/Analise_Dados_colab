{
  "nbformat": 4,
  "nbformat_minor": 0,
  "metadata": {
    "colab": {
      "provenance": [],
      "mount_file_id": "1Zsa8EVPjVBnZDKCeROW_ScA2IWnXZUlc",
      "authorship_tag": "ABX9TyOLDnWTYGijlL29j7TZMH6n",
      "include_colab_link": true
    },
    "kernelspec": {
      "name": "python3",
      "display_name": "Python 3"
    },
    "language_info": {
      "name": "python"
    }
  },
  "cells": [
    {
      "cell_type": "markdown",
      "metadata": {
        "id": "view-in-github",
        "colab_type": "text"
      },
      "source": [
        "<a href=\"https://colab.research.google.com/github/cleuber979/Analise_Dados_colab/blob/main/aula03_comando_For.ipynb\" target=\"_parent\"><img src=\"https://colab.research.google.com/assets/colab-badge.svg\" alt=\"Open In Colab\"/></a>"
      ]
    },
    {
      "cell_type": "code",
      "execution_count": 3,
      "metadata": {
        "id": "IaUfVgZLbuY7"
      },
      "outputs": [],
      "source": [
        "funcionarios = ['Ana','Roberta','Paulo','Fernada','Marcio','João']"
      ]
    },
    {
      "cell_type": "code",
      "source": [
        "for funcionario in funcionarios:\n",
        "  print(funcionario)"
      ],
      "metadata": {
        "colab": {
          "base_uri": "https://localhost:8080/"
        },
        "id": "zDNaTHBycdbY",
        "outputId": "5da60a98-189c-4eb8-b0d6-198757e62283"
      },
      "execution_count": 4,
      "outputs": [
        {
          "output_type": "stream",
          "name": "stdout",
          "text": [
            "Ana\n",
            "Roberta\n",
            "Paulo\n",
            "Fernada\n",
            "Marcio\n",
            "João\n"
          ]
        }
      ]
    },
    {
      "cell_type": "markdown",
      "source": [
        "##criando uma chave de indentificação unica para cada funcionario"
      ],
      "metadata": {
        "id": "uMXDsSjrflCh"
      }
    },
    {
      "cell_type": "code",
      "source": [
        "for funcionario in funcionarios:\n",
        "  Id_funcionario= 'BXX ' + funcionario\n",
        "  print(Id_funcionario)"
      ],
      "metadata": {
        "colab": {
          "base_uri": "https://localhost:8080/"
        },
        "id": "YAVFVG30esvk",
        "outputId": "b610b83c-d501-4de5-dfbf-78d1ec63b8a7"
      },
      "execution_count": 5,
      "outputs": [
        {
          "output_type": "stream",
          "name": "stdout",
          "text": [
            "BXX Ana\n",
            "BXX Roberta\n",
            "BXX Paulo\n",
            "BXX Fernada\n",
            "BXX Marcio\n",
            "BXX João\n"
          ]
        }
      ]
    },
    {
      "cell_type": "markdown",
      "source": [
        "##criei uma lista com todos os id de meus funcionários"
      ],
      "metadata": {
        "id": "EYuT5RTLgznu"
      }
    },
    {
      "cell_type": "code",
      "source": [
        "func = []\n",
        "\n",
        "\n",
        "for funcionario in funcionarios:\n",
        "  funcionarioID= 'BXX' + funcionario\n",
        "  func.append(funcionarioID)\n",
        "\n",
        "  func\n",
        "  print(func)"
      ],
      "metadata": {
        "colab": {
          "base_uri": "https://localhost:8080/"
        },
        "id": "ZM6zDPjrfvoL",
        "outputId": "80d3a2a2-033f-41a8-ba80-aa9eb303f555"
      },
      "execution_count": 6,
      "outputs": [
        {
          "output_type": "stream",
          "name": "stdout",
          "text": [
            "['BXXAna']\n",
            "['BXXAna', 'BXXRoberta']\n",
            "['BXXAna', 'BXXRoberta', 'BXXPaulo']\n",
            "['BXXAna', 'BXXRoberta', 'BXXPaulo', 'BXXFernada']\n",
            "['BXXAna', 'BXXRoberta', 'BXXPaulo', 'BXXFernada', 'BXXMarcio']\n",
            "['BXXAna', 'BXXRoberta', 'BXXPaulo', 'BXXFernada', 'BXXMarcio', 'BXXJoão']\n"
          ]
        }
      ]
    },
    {
      "cell_type": "code",
      "source": [
        "# ordenar\n",
        "\n",
        "for func in sorted(funcionarios):\n",
        "  print(func)\n"
      ],
      "metadata": {
        "colab": {
          "base_uri": "https://localhost:8080/"
        },
        "id": "S7FXjBMqjT_I",
        "outputId": "4f3dd1dd-95d8-4cde-9dab-bfa42fd9e250"
      },
      "execution_count": null,
      "outputs": [
        {
          "output_type": "stream",
          "name": "stdout",
          "text": [
            "Ana\n",
            "Fernada\n",
            "João\n",
            "Marcio\n",
            "Paulo\n",
            "Roberta\n"
          ]
        }
      ]
    },
    {
      "cell_type": "code",
      "source": [
        "# ordem reversa\n",
        "for func in reversed(funcionarios):\n",
        "  print(func)"
      ],
      "metadata": {
        "colab": {
          "base_uri": "https://localhost:8080/"
        },
        "id": "GLcULCeOj8SD",
        "outputId": "6ac49e00-1fd6-400b-db74-47ebd59f8828"
      },
      "execution_count": null,
      "outputs": [
        {
          "output_type": "stream",
          "name": "stdout",
          "text": [
            "João\n",
            "Marcio\n",
            "Fernada\n",
            "Paulo\n",
            "Roberta\n",
            "Ana\n"
          ]
        }
      ]
    },
    {
      "cell_type": "code",
      "source": [
        "func = []\n",
        "\n",
        "for funcionario in funcionarios:\n",
        "  if funcionario[0] in ['A','B','C','D','E','F',]:\n",
        "    funcionario_id = 'BX' +funcionario\n",
        "    func.append(funcionario_id)\n",
        "  else:\n",
        "      funcionario_id = 'B0' +funcionario\n",
        "      func.append(funcionario_id)\n",
        "\n",
        "func\n",
        "\n"
      ],
      "metadata": {
        "colab": {
          "base_uri": "https://localhost:8080/"
        },
        "id": "5wlfjiR3k_Tj",
        "outputId": "eb71f91f-db19-45f0-a095-94e7e945ee8f"
      },
      "execution_count": 7,
      "outputs": [
        {
          "output_type": "execute_result",
          "data": {
            "text/plain": [
              "['BXAna', 'B0Roberta', 'B0Paulo', 'BXFernada', 'B0Marcio', 'B0João']"
            ]
          },
          "metadata": {},
          "execution_count": 7
        }
      ]
    },
    {
      "cell_type": "code",
      "source": [
        "notas = [45,60,80,65,59,87]\n",
        "\n",
        "reprovados = 0\n",
        "aprovados= 0\n",
        "contador_geral= 0\n",
        "\n",
        "for x in notas:\n",
        "  contador_geral+=1\n",
        "  if x <60:\n",
        "    reprovados +=1\n",
        "  else:\n",
        "    aprovados+=1\n",
        "\n",
        "print(\"Tivemos \"+str(reprovados) +\" alunos reprovados e \"+str(aprovados)+\" alunos aprovados \")\n",
        "print(\"Tivemos o total de \"+str(contador_geral)+\"  alunos que realizaram a prova\")\n",
        "\n"
      ],
      "metadata": {
        "colab": {
          "base_uri": "https://localhost:8080/"
        },
        "id": "S-FwtMq31fjg",
        "outputId": "1b903c90-1b63-4cfc-a911-8b5cd9fd53a4"
      },
      "execution_count": 8,
      "outputs": [
        {
          "output_type": "stream",
          "name": "stdout",
          "text": [
            "Tivemos 2 alunos reprovados e 4 alunos aprovados \n",
            "Tivemos o total de 6  alunos que realizaram a prova\n"
          ]
        }
      ]
    },
    {
      "cell_type": "code",
      "source": [
        "import pandas as pd\n",
        "import numpy as np\n",
        "\n",
        "Vendas_Pneus = pd.read_excel('/content/drive/MyDrive/Vendas_Pneus.xlsx')\n",
        "Vendas_Pneus.head()\n"
      ],
      "metadata": {
        "colab": {
          "base_uri": "https://localhost:8080/",
          "height": 206
        },
        "id": "KB8DM4AARYRr",
        "outputId": "82237f14-6834-4bbe-9170-15274c2227ab"
      },
      "execution_count": 9,
      "outputs": [
        {
          "output_type": "execute_result",
          "data": {
            "text/plain": [
              "  Vendas mês Michelin   Pirelli  Continental  Goodyear  Bridgestone     Kumho  \\\n",
              "0    Janeiro   150000  132000.0     122140.0  122210.0     122214.0  125256.0   \n",
              "1  fevereiro   145000   98000.0     152222.0   85000.0     122564.0  122556.0   \n",
              "2      Março   132251  152000.0     142241.0  132250.0     122245.0  133325.0   \n",
              "3      Abril   159000  154000.0     154325.0  123250.0     122144.0  112935.0   \n",
              "4      Maio    180000  122000.0     144120.0   12000.0      85654.0   65215.0   \n",
              "\n",
              "   Firestone    Dunlop  \n",
              "0   122221.0  122252.0  \n",
              "1   122221.0  124556.0  \n",
              "2   144441.0  155211.0  \n",
              "3   122235.0  155222.0  \n",
              "4   122245.0   75854.0  "
            ],
            "text/html": [
              "\n",
              "  <div id=\"df-fce459e3-153d-4ae1-8419-f3cda99fd823\" class=\"colab-df-container\">\n",
              "    <div>\n",
              "<style scoped>\n",
              "    .dataframe tbody tr th:only-of-type {\n",
              "        vertical-align: middle;\n",
              "    }\n",
              "\n",
              "    .dataframe tbody tr th {\n",
              "        vertical-align: top;\n",
              "    }\n",
              "\n",
              "    .dataframe thead th {\n",
              "        text-align: right;\n",
              "    }\n",
              "</style>\n",
              "<table border=\"1\" class=\"dataframe\">\n",
              "  <thead>\n",
              "    <tr style=\"text-align: right;\">\n",
              "      <th></th>\n",
              "      <th>Vendas mês</th>\n",
              "      <th>Michelin</th>\n",
              "      <th>Pirelli</th>\n",
              "      <th>Continental</th>\n",
              "      <th>Goodyear</th>\n",
              "      <th>Bridgestone</th>\n",
              "      <th>Kumho</th>\n",
              "      <th>Firestone</th>\n",
              "      <th>Dunlop</th>\n",
              "    </tr>\n",
              "  </thead>\n",
              "  <tbody>\n",
              "    <tr>\n",
              "      <th>0</th>\n",
              "      <td>Janeiro</td>\n",
              "      <td>150000</td>\n",
              "      <td>132000.0</td>\n",
              "      <td>122140.0</td>\n",
              "      <td>122210.0</td>\n",
              "      <td>122214.0</td>\n",
              "      <td>125256.0</td>\n",
              "      <td>122221.0</td>\n",
              "      <td>122252.0</td>\n",
              "    </tr>\n",
              "    <tr>\n",
              "      <th>1</th>\n",
              "      <td>fevereiro</td>\n",
              "      <td>145000</td>\n",
              "      <td>98000.0</td>\n",
              "      <td>152222.0</td>\n",
              "      <td>85000.0</td>\n",
              "      <td>122564.0</td>\n",
              "      <td>122556.0</td>\n",
              "      <td>122221.0</td>\n",
              "      <td>124556.0</td>\n",
              "    </tr>\n",
              "    <tr>\n",
              "      <th>2</th>\n",
              "      <td>Março</td>\n",
              "      <td>132251</td>\n",
              "      <td>152000.0</td>\n",
              "      <td>142241.0</td>\n",
              "      <td>132250.0</td>\n",
              "      <td>122245.0</td>\n",
              "      <td>133325.0</td>\n",
              "      <td>144441.0</td>\n",
              "      <td>155211.0</td>\n",
              "    </tr>\n",
              "    <tr>\n",
              "      <th>3</th>\n",
              "      <td>Abril</td>\n",
              "      <td>159000</td>\n",
              "      <td>154000.0</td>\n",
              "      <td>154325.0</td>\n",
              "      <td>123250.0</td>\n",
              "      <td>122144.0</td>\n",
              "      <td>112935.0</td>\n",
              "      <td>122235.0</td>\n",
              "      <td>155222.0</td>\n",
              "    </tr>\n",
              "    <tr>\n",
              "      <th>4</th>\n",
              "      <td>Maio</td>\n",
              "      <td>180000</td>\n",
              "      <td>122000.0</td>\n",
              "      <td>144120.0</td>\n",
              "      <td>12000.0</td>\n",
              "      <td>85654.0</td>\n",
              "      <td>65215.0</td>\n",
              "      <td>122245.0</td>\n",
              "      <td>75854.0</td>\n",
              "    </tr>\n",
              "  </tbody>\n",
              "</table>\n",
              "</div>\n",
              "    <div class=\"colab-df-buttons\">\n",
              "\n",
              "  <div class=\"colab-df-container\">\n",
              "    <button class=\"colab-df-convert\" onclick=\"convertToInteractive('df-fce459e3-153d-4ae1-8419-f3cda99fd823')\"\n",
              "            title=\"Convert this dataframe to an interactive table.\"\n",
              "            style=\"display:none;\">\n",
              "\n",
              "  <svg xmlns=\"http://www.w3.org/2000/svg\" height=\"24px\" viewBox=\"0 -960 960 960\">\n",
              "    <path d=\"M120-120v-720h720v720H120Zm60-500h600v-160H180v160Zm220 220h160v-160H400v160Zm0 220h160v-160H400v160ZM180-400h160v-160H180v160Zm440 0h160v-160H620v160ZM180-180h160v-160H180v160Zm440 0h160v-160H620v160Z\"/>\n",
              "  </svg>\n",
              "    </button>\n",
              "\n",
              "  <style>\n",
              "    .colab-df-container {\n",
              "      display:flex;\n",
              "      gap: 12px;\n",
              "    }\n",
              "\n",
              "    .colab-df-convert {\n",
              "      background-color: #E8F0FE;\n",
              "      border: none;\n",
              "      border-radius: 50%;\n",
              "      cursor: pointer;\n",
              "      display: none;\n",
              "      fill: #1967D2;\n",
              "      height: 32px;\n",
              "      padding: 0 0 0 0;\n",
              "      width: 32px;\n",
              "    }\n",
              "\n",
              "    .colab-df-convert:hover {\n",
              "      background-color: #E2EBFA;\n",
              "      box-shadow: 0px 1px 2px rgba(60, 64, 67, 0.3), 0px 1px 3px 1px rgba(60, 64, 67, 0.15);\n",
              "      fill: #174EA6;\n",
              "    }\n",
              "\n",
              "    .colab-df-buttons div {\n",
              "      margin-bottom: 4px;\n",
              "    }\n",
              "\n",
              "    [theme=dark] .colab-df-convert {\n",
              "      background-color: #3B4455;\n",
              "      fill: #D2E3FC;\n",
              "    }\n",
              "\n",
              "    [theme=dark] .colab-df-convert:hover {\n",
              "      background-color: #434B5C;\n",
              "      box-shadow: 0px 1px 3px 1px rgba(0, 0, 0, 0.15);\n",
              "      filter: drop-shadow(0px 1px 2px rgba(0, 0, 0, 0.3));\n",
              "      fill: #FFFFFF;\n",
              "    }\n",
              "  </style>\n",
              "\n",
              "    <script>\n",
              "      const buttonEl =\n",
              "        document.querySelector('#df-fce459e3-153d-4ae1-8419-f3cda99fd823 button.colab-df-convert');\n",
              "      buttonEl.style.display =\n",
              "        google.colab.kernel.accessAllowed ? 'block' : 'none';\n",
              "\n",
              "      async function convertToInteractive(key) {\n",
              "        const element = document.querySelector('#df-fce459e3-153d-4ae1-8419-f3cda99fd823');\n",
              "        const dataTable =\n",
              "          await google.colab.kernel.invokeFunction('convertToInteractive',\n",
              "                                                    [key], {});\n",
              "        if (!dataTable) return;\n",
              "\n",
              "        const docLinkHtml = 'Like what you see? Visit the ' +\n",
              "          '<a target=\"_blank\" href=https://colab.research.google.com/notebooks/data_table.ipynb>data table notebook</a>'\n",
              "          + ' to learn more about interactive tables.';\n",
              "        element.innerHTML = '';\n",
              "        dataTable['output_type'] = 'display_data';\n",
              "        await google.colab.output.renderOutput(dataTable, element);\n",
              "        const docLink = document.createElement('div');\n",
              "        docLink.innerHTML = docLinkHtml;\n",
              "        element.appendChild(docLink);\n",
              "      }\n",
              "    </script>\n",
              "  </div>\n",
              "\n",
              "\n",
              "<div id=\"df-bf37c672-6c9f-4dbd-a942-1fe050387d1b\">\n",
              "  <button class=\"colab-df-quickchart\" onclick=\"quickchart('df-bf37c672-6c9f-4dbd-a942-1fe050387d1b')\"\n",
              "            title=\"Suggest charts\"\n",
              "            style=\"display:none;\">\n",
              "\n",
              "<svg xmlns=\"http://www.w3.org/2000/svg\" height=\"24px\"viewBox=\"0 0 24 24\"\n",
              "     width=\"24px\">\n",
              "    <g>\n",
              "        <path d=\"M19 3H5c-1.1 0-2 .9-2 2v14c0 1.1.9 2 2 2h14c1.1 0 2-.9 2-2V5c0-1.1-.9-2-2-2zM9 17H7v-7h2v7zm4 0h-2V7h2v10zm4 0h-2v-4h2v4z\"/>\n",
              "    </g>\n",
              "</svg>\n",
              "  </button>\n",
              "\n",
              "<style>\n",
              "  .colab-df-quickchart {\n",
              "      --bg-color: #E8F0FE;\n",
              "      --fill-color: #1967D2;\n",
              "      --hover-bg-color: #E2EBFA;\n",
              "      --hover-fill-color: #174EA6;\n",
              "      --disabled-fill-color: #AAA;\n",
              "      --disabled-bg-color: #DDD;\n",
              "  }\n",
              "\n",
              "  [theme=dark] .colab-df-quickchart {\n",
              "      --bg-color: #3B4455;\n",
              "      --fill-color: #D2E3FC;\n",
              "      --hover-bg-color: #434B5C;\n",
              "      --hover-fill-color: #FFFFFF;\n",
              "      --disabled-bg-color: #3B4455;\n",
              "      --disabled-fill-color: #666;\n",
              "  }\n",
              "\n",
              "  .colab-df-quickchart {\n",
              "    background-color: var(--bg-color);\n",
              "    border: none;\n",
              "    border-radius: 50%;\n",
              "    cursor: pointer;\n",
              "    display: none;\n",
              "    fill: var(--fill-color);\n",
              "    height: 32px;\n",
              "    padding: 0;\n",
              "    width: 32px;\n",
              "  }\n",
              "\n",
              "  .colab-df-quickchart:hover {\n",
              "    background-color: var(--hover-bg-color);\n",
              "    box-shadow: 0 1px 2px rgba(60, 64, 67, 0.3), 0 1px 3px 1px rgba(60, 64, 67, 0.15);\n",
              "    fill: var(--button-hover-fill-color);\n",
              "  }\n",
              "\n",
              "  .colab-df-quickchart-complete:disabled,\n",
              "  .colab-df-quickchart-complete:disabled:hover {\n",
              "    background-color: var(--disabled-bg-color);\n",
              "    fill: var(--disabled-fill-color);\n",
              "    box-shadow: none;\n",
              "  }\n",
              "\n",
              "  .colab-df-spinner {\n",
              "    border: 2px solid var(--fill-color);\n",
              "    border-color: transparent;\n",
              "    border-bottom-color: var(--fill-color);\n",
              "    animation:\n",
              "      spin 1s steps(1) infinite;\n",
              "  }\n",
              "\n",
              "  @keyframes spin {\n",
              "    0% {\n",
              "      border-color: transparent;\n",
              "      border-bottom-color: var(--fill-color);\n",
              "      border-left-color: var(--fill-color);\n",
              "    }\n",
              "    20% {\n",
              "      border-color: transparent;\n",
              "      border-left-color: var(--fill-color);\n",
              "      border-top-color: var(--fill-color);\n",
              "    }\n",
              "    30% {\n",
              "      border-color: transparent;\n",
              "      border-left-color: var(--fill-color);\n",
              "      border-top-color: var(--fill-color);\n",
              "      border-right-color: var(--fill-color);\n",
              "    }\n",
              "    40% {\n",
              "      border-color: transparent;\n",
              "      border-right-color: var(--fill-color);\n",
              "      border-top-color: var(--fill-color);\n",
              "    }\n",
              "    60% {\n",
              "      border-color: transparent;\n",
              "      border-right-color: var(--fill-color);\n",
              "    }\n",
              "    80% {\n",
              "      border-color: transparent;\n",
              "      border-right-color: var(--fill-color);\n",
              "      border-bottom-color: var(--fill-color);\n",
              "    }\n",
              "    90% {\n",
              "      border-color: transparent;\n",
              "      border-bottom-color: var(--fill-color);\n",
              "    }\n",
              "  }\n",
              "</style>\n",
              "\n",
              "  <script>\n",
              "    async function quickchart(key) {\n",
              "      const quickchartButtonEl =\n",
              "        document.querySelector('#' + key + ' button');\n",
              "      quickchartButtonEl.disabled = true;  // To prevent multiple clicks.\n",
              "      quickchartButtonEl.classList.add('colab-df-spinner');\n",
              "      try {\n",
              "        const charts = await google.colab.kernel.invokeFunction(\n",
              "            'suggestCharts', [key], {});\n",
              "      } catch (error) {\n",
              "        console.error('Error during call to suggestCharts:', error);\n",
              "      }\n",
              "      quickchartButtonEl.classList.remove('colab-df-spinner');\n",
              "      quickchartButtonEl.classList.add('colab-df-quickchart-complete');\n",
              "    }\n",
              "    (() => {\n",
              "      let quickchartButtonEl =\n",
              "        document.querySelector('#df-bf37c672-6c9f-4dbd-a942-1fe050387d1b button');\n",
              "      quickchartButtonEl.style.display =\n",
              "        google.colab.kernel.accessAllowed ? 'block' : 'none';\n",
              "    })();\n",
              "  </script>\n",
              "</div>\n",
              "\n",
              "    </div>\n",
              "  </div>\n"
            ]
          },
          "metadata": {},
          "execution_count": 9
        }
      ]
    },
    {
      "cell_type": "code",
      "source": [
        "metas_vendas = []\n",
        "for i in range(len(Vendas_Pneus)):\n",
        "  if Vendas_Pneus.loc[i, 'Pirelli'] >= 150000.0:\n",
        "    metas_vendas = metas_vendas + [Vendas_Pneus.loc[i,\"Vendas mês\"]]\n",
        "metas_vendas[:11]\n",
        "print(str(metas_vendas[:11])+'Estes foram os meses que tivemos venda acima da meta de 1500.000')"
      ],
      "metadata": {
        "id": "Y4dnfOzETPRQ",
        "colab": {
          "base_uri": "https://localhost:8080/"
        },
        "outputId": "1628fb6e-12e4-4bac-8e96-b31fbb5e845c"
      },
      "execution_count": 10,
      "outputs": [
        {
          "output_type": "stream",
          "name": "stdout",
          "text": [
            "['Março', 'Abril', 'Julho', 'Total']Estes foram os meses que tivemos venda acima da meta de 1500.000\n"
          ]
        }
      ]
    },
    {
      "cell_type": "code",
      "source": [
        "Vendas_Pneus.info()"
      ],
      "metadata": {
        "colab": {
          "base_uri": "https://localhost:8080/"
        },
        "id": "_200APxilfRI",
        "outputId": "b3000ed9-869e-45ab-afc1-dc90bf84dcdd"
      },
      "execution_count": 11,
      "outputs": [
        {
          "output_type": "stream",
          "name": "stdout",
          "text": [
            "<class 'pandas.core.frame.DataFrame'>\n",
            "RangeIndex: 14 entries, 0 to 13\n",
            "Data columns (total 9 columns):\n",
            " #   Column       Non-Null Count  Dtype  \n",
            "---  ------       --------------  -----  \n",
            " 0   Vendas mês   13 non-null     object \n",
            " 1   Michelin     14 non-null     object \n",
            " 2   Pirelli      13 non-null     float64\n",
            " 3   Continental  13 non-null     float64\n",
            " 4   Goodyear     13 non-null     float64\n",
            " 5   Bridgestone  13 non-null     float64\n",
            " 6   Kumho        13 non-null     float64\n",
            " 7   Firestone    13 non-null     float64\n",
            " 8   Dunlop       13 non-null     float64\n",
            "dtypes: float64(7), object(2)\n",
            "memory usage: 1.1+ KB\n"
          ]
        }
      ]
    },
    {
      "cell_type": "code",
      "source": [
        "import seaborn as sns\n",
        "import matplotlib.pyplot as plt\n",
        "from scipy import stats\n",
        "\n",
        "\n",
        "numerics = ['float64','float64','float64']\n",
        "Vendas_Pneus_numeric = Vendas_Pneus.select_dtypes(include=numerics)\n",
        "\n",
        "fig,axs = plt.subplots(ncols=3,nrows=3,figsize=(20,10))\n",
        "index = 0\n",
        "axs = axs.flatten()\n",
        "\n",
        "for k,v in Vendas_Pneus_numeric.items():\n",
        "  sns.distplot(v,ax = axs[index])\n",
        "  index += 1\n",
        "\n",
        "\n"
      ],
      "metadata": {
        "colab": {
          "base_uri": "https://localhost:8080/",
          "height": 1000
        },
        "id": "2I7SQlzdi_cR",
        "outputId": "bb0fcc9a-7504-4b7a-868a-ca5b68645e57"
      },
      "execution_count": 12,
      "outputs": [
        {
          "output_type": "stream",
          "name": "stderr",
          "text": [
            "<ipython-input-12-5d4245345ba6>:14: UserWarning: \n",
            "\n",
            "`distplot` is a deprecated function and will be removed in seaborn v0.14.0.\n",
            "\n",
            "Please adapt your code to use either `displot` (a figure-level function with\n",
            "similar flexibility) or `histplot` (an axes-level function for histograms).\n",
            "\n",
            "For a guide to updating your code to use the new functions, please see\n",
            "https://gist.github.com/mwaskom/de44147ed2974457ad6372750bbe5751\n",
            "\n",
            "  sns.distplot(v,ax = axs[index])\n",
            "<ipython-input-12-5d4245345ba6>:14: UserWarning: \n",
            "\n",
            "`distplot` is a deprecated function and will be removed in seaborn v0.14.0.\n",
            "\n",
            "Please adapt your code to use either `displot` (a figure-level function with\n",
            "similar flexibility) or `histplot` (an axes-level function for histograms).\n",
            "\n",
            "For a guide to updating your code to use the new functions, please see\n",
            "https://gist.github.com/mwaskom/de44147ed2974457ad6372750bbe5751\n",
            "\n",
            "  sns.distplot(v,ax = axs[index])\n",
            "<ipython-input-12-5d4245345ba6>:14: UserWarning: \n",
            "\n",
            "`distplot` is a deprecated function and will be removed in seaborn v0.14.0.\n",
            "\n",
            "Please adapt your code to use either `displot` (a figure-level function with\n",
            "similar flexibility) or `histplot` (an axes-level function for histograms).\n",
            "\n",
            "For a guide to updating your code to use the new functions, please see\n",
            "https://gist.github.com/mwaskom/de44147ed2974457ad6372750bbe5751\n",
            "\n",
            "  sns.distplot(v,ax = axs[index])\n",
            "<ipython-input-12-5d4245345ba6>:14: UserWarning: \n",
            "\n",
            "`distplot` is a deprecated function and will be removed in seaborn v0.14.0.\n",
            "\n",
            "Please adapt your code to use either `displot` (a figure-level function with\n",
            "similar flexibility) or `histplot` (an axes-level function for histograms).\n",
            "\n",
            "For a guide to updating your code to use the new functions, please see\n",
            "https://gist.github.com/mwaskom/de44147ed2974457ad6372750bbe5751\n",
            "\n",
            "  sns.distplot(v,ax = axs[index])\n",
            "<ipython-input-12-5d4245345ba6>:14: UserWarning: \n",
            "\n",
            "`distplot` is a deprecated function and will be removed in seaborn v0.14.0.\n",
            "\n",
            "Please adapt your code to use either `displot` (a figure-level function with\n",
            "similar flexibility) or `histplot` (an axes-level function for histograms).\n",
            "\n",
            "For a guide to updating your code to use the new functions, please see\n",
            "https://gist.github.com/mwaskom/de44147ed2974457ad6372750bbe5751\n",
            "\n",
            "  sns.distplot(v,ax = axs[index])\n",
            "<ipython-input-12-5d4245345ba6>:14: UserWarning: \n",
            "\n",
            "`distplot` is a deprecated function and will be removed in seaborn v0.14.0.\n",
            "\n",
            "Please adapt your code to use either `displot` (a figure-level function with\n",
            "similar flexibility) or `histplot` (an axes-level function for histograms).\n",
            "\n",
            "For a guide to updating your code to use the new functions, please see\n",
            "https://gist.github.com/mwaskom/de44147ed2974457ad6372750bbe5751\n",
            "\n",
            "  sns.distplot(v,ax = axs[index])\n",
            "<ipython-input-12-5d4245345ba6>:14: UserWarning: \n",
            "\n",
            "`distplot` is a deprecated function and will be removed in seaborn v0.14.0.\n",
            "\n",
            "Please adapt your code to use either `displot` (a figure-level function with\n",
            "similar flexibility) or `histplot` (an axes-level function for histograms).\n",
            "\n",
            "For a guide to updating your code to use the new functions, please see\n",
            "https://gist.github.com/mwaskom/de44147ed2974457ad6372750bbe5751\n",
            "\n",
            "  sns.distplot(v,ax = axs[index])\n"
          ]
        },
        {
          "output_type": "display_data",
          "data": {
            "text/plain": [
              "<Figure size 2000x1000 with 9 Axes>"
            ],
            "image/png": "[encoded data removed]"
          },
          "metadata": {}
        }
      ]
    }
  ]
}