{
  "nbformat": 4,
  "nbformat_minor": 0,
  "metadata": {
    "colab": {
      "provenance": [],
      "authorship_tag": "ABX9TyPrj30PJYaw73WJIxJ4hq9w",
      "include_colab_link": true
    },
    "kernelspec": {
      "name": "python3",
      "display_name": "Python 3"
    },
    "language_info": {
      "name": "python"
    }
  },
  "cells": [
    {
      "cell_type": "markdown",
      "metadata": {
        "id": "view-in-github",
        "colab_type": "text"
      },
      "source": [
        "<a href=\"https://colab.research.google.com/github/cleuber979/Analise_Dados_colab/blob/main/fun%C3%A7%C3%B5es_no_Python_e_aplicar_no_Pandas.ipynb\" target=\"_parent\"><img src=\"https://colab.research.google.com/assets/colab-badge.svg\" alt=\"Open In Colab\"/></a>"
      ]
    },
    {
      "cell_type": "code",
      "execution_count": null,
      "metadata": {
        "id": "dZNPYsd3K5YF"
      },
      "outputs": [],
      "source": [
        "# Oque é uma função e como se comporta dentro de um programa\n",
        "# def DoSomething():\n",
        "#value = 1\n",
        "#return value\n",
        "\n",
        "#def == keyword\n",
        "#DoSomething == Function name\n",
        "#() Parentheses\n",
        "#: Colon\n",
        "# indentation == value = 1 Assignment statement\n",
        "#return value == reyurn statement\n",
        "\n",
        "#value = 1    Function body\n",
        "#return value\n"
      ]
    },
    {
      "cell_type": "code",
      "source": [
        "def soma(x,y):\n",
        "  resultado = (x+y)\n",
        "  return resultado"
      ],
      "metadata": {
        "id": "J-wzrwqSMv0G"
      },
      "execution_count": 4,
      "outputs": []
    },
    {
      "cell_type": "code",
      "source": [
        "soma(10,10)"
      ],
      "metadata": {
        "colab": {
          "base_uri": "https://localhost:8080/"
        },
        "id": "y5ugSpgqNgVW",
        "outputId": "b99f8ace-9441-4e8d-b3cf-33f8cc607116"
      },
      "execution_count": 5,
      "outputs": [
        {
          "output_type": "execute_result",
          "data": {
            "text/plain": [
              "20"
            ]
          },
          "metadata": {},
          "execution_count": 5
        }
      ]
    },
    {
      "cell_type": "code",
      "source": [
        "def multiplicacao(x,y):\n",
        "  resultado = (x*y)\n",
        "  return resultado\n"
      ],
      "metadata": {
        "id": "Q1F9yX6POMqO"
      },
      "execution_count": 6,
      "outputs": []
    },
    {
      "cell_type": "code",
      "source": [
        "multiplicacao(10,5)"
      ],
      "metadata": {
        "colab": {
          "base_uri": "https://localhost:8080/"
        },
        "id": "AVF7-Ea0OaVB",
        "outputId": "587c2d4f-af13-4441-aec8-625fcbe13783"
      },
      "execution_count": 7,
      "outputs": [
        {
          "output_type": "execute_result",
          "data": {
            "text/plain": [
              "50"
            ]
          },
          "metadata": {},
          "execution_count": 7
        }
      ]
    },
    {
      "cell_type": "markdown",
      "source": [
        "##também posso passar um valor defaut quando eu passar só um argumento ela não gerar um erro de copilação funciona quando eu já tenho um vaor padrão definido"
      ],
      "metadata": {
        "id": "37coi70jOpzl"
      }
    },
    {
      "cell_type": "code",
      "source": [
        "def multiplicacao(x,y=1):\n",
        "  resultado = (x*y)\n",
        "  return resultado"
      ],
      "metadata": {
        "id": "4kzKh7l1Ohlp"
      },
      "execution_count": 11,
      "outputs": []
    },
    {
      "cell_type": "code",
      "source": [
        "multiplicacao(10)"
      ],
      "metadata": {
        "colab": {
          "base_uri": "https://localhost:8080/"
        },
        "id": "6SZWomazOlpu",
        "outputId": "05529ced-790e-4a9e-b5a1-81d0e57fa122"
      },
      "execution_count": 10,
      "outputs": [
        {
          "output_type": "execute_result",
          "data": {
            "text/plain": [
              "10"
            ]
          },
          "metadata": {},
          "execution_count": 10
        }
      ]
    }
  ]
}