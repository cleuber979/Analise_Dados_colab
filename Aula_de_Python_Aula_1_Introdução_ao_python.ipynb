{
  "nbformat": 4,
  "nbformat_minor": 0,
  "metadata": {
    "colab": {
      "provenance": []
    },
    "kernelspec": {
      "name": "python3",
      "display_name": "Python 3"
    },
    "language_info": {
      "name": "python"
    }
  },
  "cells": [
    {
      "cell_type": "code",
      "metadata": {
        "id": "9xrJ5K9fU2Mk"
      },
      "source": [
        "from IPython.core.interactiveshell import InteractiveShell\n",
        "InteractiveShell.last_node_interactivity = \"all\""
      ],
      "execution_count": null,
      "outputs": []
    },
    {
      "cell_type": "markdown",
      "metadata": {
        "id": "eJSESOTRLTCx"
      },
      "source": [
        "#Aula de Python - Aula 1: Introdução ao Python\n",
        "----"
      ]
    },
    {
      "cell_type": "markdown",
      "metadata": {
        "id": "0gMY8OOMuBlP"
      },
      "source": [
        "1. Introdução\n",
        "2. Variáveis\n",
        "3. Operadores Aritméticos"
      ]
    },
    {
      "cell_type": "markdown",
      "metadata": {
        "id": "_QG2nm0xnPRX"
      },
      "source": [
        "##Introdução"
      ]
    },
    {
      "cell_type": "markdown",
      "metadata": {
        "id": "9obO78yoNKo0"
      },
      "source": [
        "Criada por Guido van Rossum em 1990 (30 anos) foi lançada em 1991.\n",
        "Python é um linguagem de propósito geralde alto nível, multiparadigma, supotando procedural, orientado a objeto e funcional. Python também é frenquentemente descrito como uma linguagem com \"batteries included\" por causa de sua abragente biblioteca padrão.<br />\n",
        "Somos chamados de pythonistas e programamos de forma pythonica.\n",
        "\n",
        "Podemos fazer construção de sistemas Web com Django, Flask, Pyramid, etc.<br />\n",
        "Análise de dados, Inteligência Artificial, Machine Learning e etc com Numpy, Pandas, Matplotlib, etc<br />\n",
        "Construção de aplicativos com Kivy e Pybee<br />\n",
        "Construção de sistemas desktop com Tkinter, WxPython, etc.<br />\n",
        "Em breve python poderá ser executado nativamente em Android e iOS com o projeto [BeeWare](https://beeware.org/) que está portando o CPython para Android, então vamos ter python em iOS, Android, Windows, macOS, Linux, navegadores e tvOS."
      ]
    },
    {
      "cell_type": "markdown",
      "metadata": {
        "id": "o-0v3bJ_nmC5"
      },
      "source": [
        "### PEP (Python Enhancement Proposals)"
      ]
    },
    {
      "cell_type": "markdown",
      "metadata": {
        "id": "B8BHOBqhofkh"
      },
      "source": [
        " Propostas de aprimoramento do Python que está catalogado no site [PEP 0](https://www.python.org/dev/peps/) sendo uma das mais famosas a [PEP 8](https://www.python.org/dev/peps/pep-0008/) que é sobre o guia de estilo de códigos Python."
      ]
    },
    {
      "cell_type": "markdown",
      "metadata": {
        "id": "QCQiIWYVnEto"
      },
      "source": [
        "### The Zen of Python, by Tim Peters"
      ]
    },
    {
      "cell_type": "code",
      "metadata": {
        "id": "UwKq46-3hcpX",
        "colab": {
          "base_uri": "https://localhost:8080/"
        },
        "outputId": "debb9cb2-aef6-4b2c-f712-3e8e76ff0354"
      },
      "source": [
        "import this"
      ],
      "execution_count": null,
      "outputs": [
        {
          "output_type": "stream",
          "text": [
            "The Zen of Python, by Tim Peters\n",
            "\n",
            "Beautiful is better than ugly.\n",
            "Explicit is better than implicit.\n",
            "Simple is better than complex.\n",
            "Complex is better than complicated.\n",
            "Flat is better than nested.\n",
            "Sparse is better than dense.\n",
            "Readability counts.\n",
            "Special cases aren't special enough to break the rules.\n",
            "Although practicality beats purity.\n",
            "Errors should never pass silently.\n",
            "Unless explicitly silenced.\n",
            "In the face of ambiguity, refuse the temptation to guess.\n",
            "There should be one-- and preferably only one --obvious way to do it.\n",
            "Although that way may not be obvious at first unless you're Dutch.\n",
            "Now is better than never.\n",
            "Although never is often better than *right* now.\n",
            "If the implementation is hard to explain, it's a bad idea.\n",
            "If the implementation is easy to explain, it may be a good idea.\n",
            "Namespaces are one honking great idea -- let's do more of those!\n"
          ],
          "name": "stdout"
        }
      ]
    },
    {
      "cell_type": "markdown",
      "metadata": {
        "id": "cpBiv0IJjGfw"
      },
      "source": [
        "Sendo a [PEP 20](https://www.python.org/dev/peps/pep-0020)\n",
        "\n",
        "Bonito é melhor que feio.<br />\n",
        "Explícito é melhor que implícito.<br />\n",
        "Simples é melhor que complexo.<br />\n",
        "Complexo é melhor que complicado.<br />\n",
        "Plano é melhor que aglomerado.<br />\n",
        "Esparso é melhor que denso.<br />\n",
        "Legibilidade faz diferença.<br />\n",
        "Casos especiais não são especiais o bastante para quebrar as regras.<br />\n",
        "Embora a praticidade vença a pureza.<br />\n",
        "Erros nunca devem passar silenciosamente.<br />\n",
        "A menos que sejam explicitamente silenciados.<br />\n",
        "Diante da ambigüidade, recuse a tentação de adivinhar.<br />\n",
        "Deve haver um -- e preferencialmente só um -- modo óbvio para fazer algo.<br />\n",
        "Embora esse modo possa não ser óbvio à primeira vista a menos que você seja holandês.<br />\n",
        "Agora é melhor que nunca.<br />\n",
        "Embora nunca freqüentemente seja melhor que `*exatamente*` agora.<br />\n",
        "Se a implementação é difícil de explicar, é uma má idéia.<br />\n",
        "Se a implementação é fácil de explicar, pode ser uma boa idéia.<br />\n",
        "Namespaces são uma grande idéia -- vamos fazer mais dessas!<br />\n",
        "https://zen-of-python.info/<br />\n",
        "https://wiki.python.org.br/TheZenOfPython\n"
      ]
    },
    {
      "cell_type": "markdown",
      "metadata": {
        "id": "KavaZRmydvcs"
      },
      "source": [
        "### Python 2.7.x e Python 3.x"
      ]
    },
    {
      "cell_type": "markdown",
      "metadata": {
        "id": "V0jvp2gEbx7_"
      },
      "source": [
        "### Instalação"
      ]
    },
    {
      "cell_type": "markdown",
      "metadata": {
        "id": "Y_lAUWhLcFWV"
      },
      "source": [
        "Para Mac OS X e GNU/Linux vem nativo na maioria das distros.\n",
        "Para Windows https://www.python.org/downloads/windows/ recomando usar chocolatey `choco install python`.\n",
        "\n",
        "Você também pode usar [docker](https://hub.docker.com/r/jupyter/datascience-notebook) `docker pull jupyter/datascience-notebook` que já ta incluso o jupyter e outras bibliotecas [link para tutorial](https://medium.com/edinei-dev/fazendo-ci%C3%AAncia-de-dados-com-docker-32b023702aeb), ou pode utilizar o [Google Colab](https://colab.research.google.com/)"
      ]
    },
    {
      "cell_type": "code",
      "metadata": {
        "id": "ZPJqYhGiLPql",
        "colab": {
          "base_uri": "https://localhost:8080/"
        },
        "outputId": "44bb30c0-ec40-4f9e-cb83-83094e6b2f5b"
      },
      "source": [
        "!python --version"
      ],
      "execution_count": null,
      "outputs": [
        {
          "output_type": "stream",
          "text": [
            "Python 3.7.10\n"
          ],
          "name": "stdout"
        }
      ]
    },
    {
      "cell_type": "markdown",
      "metadata": {
        "id": "9Qpqv9VU9wvt"
      },
      "source": [
        "#### Visual Studio Code"
      ]
    },
    {
      "cell_type": "markdown",
      "metadata": {
        "id": "M7nyQZjW90Yf"
      },
      "source": [
        "Extensões:\n",
        "\n",
        "1.   [Python](https://marketplace.visualstudio.com/items?itemName=ms-python.python)\n",
        "2.   [Python Preview](https://marketplace.visualstudio.com/items?itemName=dongli.python-preview)\n",
        "3.   [autoDocstring](https://marketplace.visualstudio.com/items?itemName=njpwerner.autodocstring)\n",
        "4.   [Python Test Explorer for Visual Studio Code](https://marketplace.visualstudio.com/items?itemName=LittleFoxTeam.vscode-python-test-adapter)\n",
        "5.   [Pyright](https://marketplace.visualstudio.com/items?itemName=ms-pyright.pyright)\n",
        "\n",
        "Por [Codeshow](https://www.youtube.com/watch?v=I8qaQoNITFI)\n",
        "\n",
        "[Pylint - code analysis for Python](https://www.pylint.org/)<br />\n",
        "[Pylance baseado no Pyright](https://marketplace.visualstudio.com/items?itemName=ms-python.vscode-pylance)"
      ]
    },
    {
      "cell_type": "markdown",
      "metadata": {
        "id": "PIAtBW4uHUCI"
      },
      "source": [
        "### SciPy"
      ]
    },
    {
      "cell_type": "markdown",
      "metadata": {
        "id": "CYTv28zUHdSE"
      },
      "source": [
        "NumPy<br />\n",
        "Matplotlib<br />\n",
        "IPython<br />\n",
        "SymPy<br />\n",
        "pandas"
      ]
    },
    {
      "cell_type": "markdown",
      "metadata": {
        "id": "yNBSPYcd2Oy1"
      },
      "source": [
        "### Comunidade"
      ]
    },
    {
      "cell_type": "markdown",
      "metadata": {
        "id": "smzqW6SR2YFq"
      },
      "source": [
        "Python tem uma forte e aberta comunidade tanto internacionalmente quanto nacionalmente como [Pycon US](http://us.pycon.org/) e [PythonBrasil](http://www.pythonbrasil.org.br/) respecitivamente sendo um conferência anual.\n",
        "Contando com [45 comunidades ao redor do mundo](https://pycon.org/).\n",
        "\n",
        "Seja você um programador experiente, um hacker de hobby ou um iniciante, a comunidade Python gostária de recebê-lo.\n",
        "\n",
        "A Pycon US vai ocorrer do dia 15 de abril a 23 em 2020 em Pittsburgh - Pensilvânia. Já a PythonBrasil vai ocorrer do dia 28 de outubro a 02 de novembro de 2020 em Caxias do Sul - Rio Grande do Sul.\n",
        "\n",
        "Temos também a SciPy Conferences que ocorre nos [Estados Unidos](https://conference.scipy.org/), [Europa](https://www.euroscipy.org/) e [Índia](https://scipy.in/2019).\n",
        "\n",
        "Muitas das palastras podem ser vistas no youtube."
      ]
    },
    {
      "cell_type": "markdown",
      "metadata": {
        "id": "9cfhX7mTBfJc"
      },
      "source": [
        "#### Comunidades Locais"
      ]
    },
    {
      "cell_type": "markdown",
      "metadata": {
        "id": "U8bQLFIFBox9"
      },
      "source": [
        "Temos também comunidades espalhadas pelos brasil acesse: https://python.org.br/comunidades-locais/"
      ]
    },
    {
      "cell_type": "markdown",
      "metadata": {
        "id": "yPwmLBpQCCof"
      },
      "source": [
        "#### Comunidades nas rede sociais"
      ]
    },
    {
      "cell_type": "markdown",
      "metadata": {
        "id": "7_W4RMDcAKPy"
      },
      "source": [
        "Também temos as comunidades as redes sociais.\n",
        "\n",
        "https://groups.google.com/forum/#!forum/python-brasil<br />\n",
        "https://www.facebook.com/groups/python.brasil/<br />\n",
        "https://twitter.com/pythonbrasil<br />\n",
        "https://github.com/pythonbrasil<br />\n",
        "https://t.me/pythonbrasil<br />\n",
        "https://t.me/PyCoding<br />\n",
        "https://github.com/alexmoreno/telegram-br#python<br />\n",
        "https://www.pythonweekly.com/<br />\n",
        "https://pycoders.com/"
      ]
    },
    {
      "cell_type": "markdown",
      "metadata": {
        "id": "pgPtEqCjOQYp"
      },
      "source": [
        "## Variáveis"
      ]
    },
    {
      "cell_type": "markdown",
      "metadata": {
        "id": "QP9wWDoGS_XG"
      },
      "source": [
        "### Tipos embutidos (Built-in Types)"
      ]
    },
    {
      "cell_type": "code",
      "metadata": {
        "id": "BZt09Yx_R0MY",
        "colab": {
          "base_uri": "https://localhost:8080/",
          "height": 187
        },
        "outputId": "b4ad5f02-976d-46ae-c173-d1c81af859bc"
      },
      "source": [
        "print(type(True))\n",
        "print(type('Hello World'))\n",
        "print(type(2))\n",
        "print(type(2.0))\n",
        "print(type(2j))\n",
        "print(type(['a', 1]))\n",
        "print(type(('a', 1)))\n",
        "print(type({'a': 1}))\n",
        "print(type((set([1, 1]))))"
      ],
      "execution_count": null,
      "outputs": [
        {
          "output_type": "stream",
          "text": [
            "<class 'bool'>\n",
            "<class 'str'>\n",
            "<class 'int'>\n",
            "<class 'float'>\n",
            "<class 'complex'>\n",
            "<class 'list'>\n",
            "<class 'tuple'>\n",
            "<class 'dict'>\n",
            "<class 'set'>\n",
            "<class 'set'>\n"
          ],
          "name": "stdout"
        }
      ]
    },
    {
      "cell_type": "markdown",
      "metadata": {
        "id": "24_jz7nUUTU0"
      },
      "source": [
        "### Variáveis"
      ]
    },
    {
      "cell_type": "code",
      "metadata": {
        "id": "jDPPJbqUUYre",
        "colab": {
          "base_uri": "https://localhost:8080/"
        },
        "outputId": "85d89380-7b57-4bee-971a-d36b794b905f"
      },
      "source": [
        "greeting = \"Olá, Python\"\n",
        "age = 30\n",
        "pi = 3.14\n",
        "\n",
        "print(greeting + \", Idade: \" + str(age) + \", PI: \" + str(pi)) # antiga\n",
        "print(f\"{greeting}, Idade: {age}, PI: {pi}\")  # nova\n",
        "print(f\"Types: {type(greeting)}, Idade: {type(age)}, PI: {type(pi)}\")"
      ],
      "execution_count": null,
      "outputs": [
        {
          "output_type": "stream",
          "text": [
            "Olá, Python, Idade: 30, PI: 3.14\n",
            "Olá, Python, Idade: 30, PI: 3.14\n",
            "Types: <class 'str'>, Idade: <class 'int'>, PI: <class 'float'>\n"
          ],
          "name": "stdout"
        }
      ]
    },
    {
      "cell_type": "markdown",
      "metadata": {
        "id": "KeCTlF5NYVLV"
      },
      "source": [
        "É uma convenção entre os programadores Python começar a variável com letras minúsculas e utilizar o underscore (_) para separar palavras como: **meu_nome**, **numero_de_cadastro**, **telefone_residencial**. Esse padrão é chamado de **snake case**. Variáveis também podem começar com underscore (_) mas deve ser evitado e utilizado em casos mais específicos.\n",
        "Se usar um nopme ilegal, o interpretador vai acusar um erro"
      ]
    },
    {
      "cell_type": "code",
      "metadata": {
        "id": "ejMW7z7WYurX",
        "colab": {
          "base_uri": "https://localhost:8080/",
          "height": 131
        },
        "outputId": "2342693c-26d7-483e-fd8b-11aa553d8760"
      },
      "source": [
        "1nome = \"Python\""
      ],
      "execution_count": null,
      "outputs": [
        {
          "output_type": "error",
          "ename": "SyntaxError",
          "evalue": "ignored",
          "traceback": [
            "\u001b[0;36m  File \u001b[0;32m\"<ipython-input-26-06e372a7c93b>\"\u001b[0;36m, line \u001b[0;32m1\u001b[0m\n\u001b[0;31m    1nome = \"Python\"\u001b[0m\n\u001b[0m        ^\u001b[0m\n\u001b[0;31mSyntaxError\u001b[0m\u001b[0;31m:\u001b[0m invalid syntax\n"
          ]
        }
      ]
    },
    {
      "cell_type": "code",
      "metadata": {
        "id": "Eso2qk_0ZQiK",
        "colab": {
          "base_uri": "https://localhost:8080/",
          "height": 131
        },
        "outputId": "f1ea6e2b-f404-452f-e0e8-8d8e9ab15cab"
      },
      "source": [
        "numero@ = 42"
      ],
      "execution_count": null,
      "outputs": [
        {
          "output_type": "error",
          "ename": "SyntaxError",
          "evalue": "ignored",
          "traceback": [
            "\u001b[0;36m  File \u001b[0;32m\"<ipython-input-27-d9f59dcc085f>\"\u001b[0;36m, line \u001b[0;32m1\u001b[0m\n\u001b[0;31m    numero@ = 42\u001b[0m\n\u001b[0m            ^\u001b[0m\n\u001b[0;31mSyntaxError\u001b[0m\u001b[0;31m:\u001b[0m invalid syntax\n"
          ]
        }
      ]
    },
    {
      "cell_type": "code",
      "metadata": {
        "id": "fi0oXm_YZghK",
        "colab": {
          "base_uri": "https://localhost:8080/",
          "height": 131
        },
        "outputId": "e85187a2-85d4-44d2-ea7c-2a08d9d9268e"
      },
      "source": [
        "class = 'test'"
      ],
      "execution_count": null,
      "outputs": [
        {
          "output_type": "error",
          "ename": "SyntaxError",
          "evalue": "ignored",
          "traceback": [
            "\u001b[0;36m  File \u001b[0;32m\"<ipython-input-28-f8a641588405>\"\u001b[0;36m, line \u001b[0;32m1\u001b[0m\n\u001b[0;31m    class = 'test'\u001b[0m\n\u001b[0m          ^\u001b[0m\n\u001b[0;31mSyntaxError\u001b[0m\u001b[0;31m:\u001b[0m invalid syntax\n"
          ]
        }
      ]
    },
    {
      "cell_type": "markdown",
      "metadata": {
        "id": "pfECI-naZomT"
      },
      "source": [
        "**1nome** é ilegal porque começa com um número.\n",
        "**numero@** é ilegal porque contém um caractere especial o @.\n",
        "E **class** é ilegal porque é uma **palavra reservada** da linguagem.\n",
        "\n",
        "Python possiu 33 palavras reservadas:\n",
        "```\n",
        " and        del        from        None        True\n",
        " as        elif        global        nonlocal        try\n",
        " assert        else        if        not        while\n",
        " break        except        import        or        with\n",
        " class        False        in        pass        yield\n",
        " continue        finaly        is        raise        def\n",
        " for        lambda        return\n",
        "```\n",
        "Portanto, não podemos ser utilizadas ao nomear variáveis."
      ]
    },
    {
      "cell_type": "markdown",
      "metadata": {
        "id": "1xK_46i05ZF4"
      },
      "source": [
        "## Operadores Aritméticos"
      ]
    },
    {
      "cell_type": "markdown",
      "metadata": {
        "id": "HRDOVS83eCsp"
      },
      "source": [
        "São os seguintes operadores `+, -, *, / e **` que representão, respectivamente, adição, subtração, multiplicação, divisão e potenciação."
      ]
    },
    {
      "cell_type": "code",
      "metadata": {
        "id": "BdtU3NKDfAVx",
        "colab": {
          "base_uri": "https://localhost:8080/",
          "height": 34
        },
        "outputId": "2d0c2846-e8a5-404e-d9eb-99485e52a890"
      },
      "source": [
        "1 + 1"
      ],
      "execution_count": null,
      "outputs": [
        {
          "output_type": "execute_result",
          "data": {
            "text/plain": [
              "2"
            ]
          },
          "metadata": {
            "tags": []
          },
          "execution_count": 29
        }
      ]
    },
    {
      "cell_type": "code",
      "metadata": {
        "id": "ZQcbWZyNfGV-",
        "colab": {
          "base_uri": "https://localhost:8080/",
          "height": 34
        },
        "outputId": "90e19799-56aa-4f6a-8e16-401546e58754"
      },
      "source": [
        "x = 1\n",
        "y = 2\n",
        "x + y"
      ],
      "execution_count": null,
      "outputs": [
        {
          "output_type": "execute_result",
          "data": {
            "text/plain": [
              "3"
            ]
          },
          "metadata": {
            "tags": []
          },
          "execution_count": 32
        }
      ]
    },
    {
      "cell_type": "code",
      "metadata": {
        "id": "yWPm8WCZfiim",
        "colab": {
          "base_uri": "https://localhost:8080/",
          "height": 34
        },
        "outputId": "c169d0ec-97c9-4b29-e2c6-fbe376eae6d5"
      },
      "source": [
        "x / y"
      ],
      "execution_count": null,
      "outputs": [
        {
          "output_type": "execute_result",
          "data": {
            "text/plain": [
              "0.5"
            ]
          },
          "metadata": {
            "tags": []
          },
          "execution_count": 33
        }
      ]
    },
    {
      "cell_type": "code",
      "metadata": {
        "id": "aTI2w8LeftzT",
        "colab": {
          "base_uri": "https://localhost:8080/",
          "height": 34
        },
        "outputId": "913d9d99-40b1-4427-8133-4e4ebaa79a73"
      },
      "source": [
        "x ** y"
      ],
      "execution_count": null,
      "outputs": [
        {
          "output_type": "execute_result",
          "data": {
            "text/plain": [
              "1"
            ]
          },
          "metadata": {
            "tags": []
          },
          "execution_count": 34
        }
      ]
    },
    {
      "cell_type": "markdown",
      "metadata": {
        "id": "VfSWhdpXf_8L"
      },
      "source": [
        "Além dos operadores comentados, temos também o operador `//` e `%` que representa a divisão inteira e resto da divisão entre dois numeros inteiros (módulo):"
      ]
    },
    {
      "cell_type": "code",
      "metadata": {
        "id": "CT9NY1TLgSWv",
        "colab": {
          "base_uri": "https://localhost:8080/"
        },
        "outputId": "716f64a2-d67d-482e-89f9-53008e04e8a8"
      },
      "source": [
        "7 // 2"
      ],
      "execution_count": null,
      "outputs": [
        {
          "output_type": "execute_result",
          "data": {
            "text/plain": [
              "3"
            ]
          },
          "metadata": {
            "tags": []
          },
          "execution_count": 11
        }
      ]
    },
    {
      "cell_type": "code",
      "metadata": {
        "id": "jGY_FqbzhixI",
        "colab": {
          "base_uri": "https://localhost:8080/"
        },
        "outputId": "12d7258e-ec71-4e30-8ce1-8911e186b002"
      },
      "source": [
        "7 % 2"
      ],
      "execution_count": null,
      "outputs": [
        {
          "output_type": "execute_result",
          "data": {
            "text/plain": [
              "1"
            ]
          },
          "metadata": {
            "tags": []
          },
          "execution_count": 18
        }
      ]
    },
    {
      "cell_type": "markdown",
      "metadata": {
        "id": "NyUOr1ECh3_Z"
      },
      "source": [
        "Esse operador é bem útil quando queremos saber se um número é divisível por outro, ou se um número é impar ou par."
      ]
    }
  ]
}